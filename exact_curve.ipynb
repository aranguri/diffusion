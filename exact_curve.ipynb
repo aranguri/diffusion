{
 "cells": [
  {
   "cell_type": "code",
   "execution_count": 1,
   "id": "8e0f1ff6-7def-4f30-93b9-a15f8c4ecf99",
   "metadata": {},
   "outputs": [
    {
     "name": "stdout",
     "output_type": "stream",
     "text": [
      "0.0\n",
      "0.01\n",
      "0.02\n",
      "0.03\n",
      "0.04\n",
      "0.05\n",
      "0.06\n",
      "0.07\n",
      "0.08\n",
      "0.09\n",
      "0.1\n",
      "0.11\n",
      "0.12\n",
      "0.13\n",
      "0.14\n",
      "0.15\n",
      "0.16\n",
      "0.17\n",
      "0.18\n",
      "0.19\n",
      "0.2\n",
      "0.21\n",
      "0.22\n",
      "0.23\n",
      "0.24\n",
      "0.25\n",
      "0.26\n",
      "0.27\n",
      "0.28\n",
      "0.29\n",
      "0.3\n",
      "0.31\n",
      "0.32\n",
      "0.33\n",
      "0.34\n",
      "0.35000000000000003\n",
      "0.36\n",
      "0.37\n",
      "0.38\n",
      "0.39\n",
      "0.4\n",
      "0.41000000000000003\n",
      "0.42\n",
      "0.43\n",
      "0.44\n",
      "0.45\n",
      "0.46\n",
      "0.47000000000000003\n",
      "0.48\n",
      "0.49\n",
      "0.5\n",
      "0.51\n",
      "0.52\n",
      "0.53\n",
      "0.54\n",
      "0.55\n",
      "0.56\n",
      "0.5700000000000001\n",
      "0.58\n",
      "0.59\n",
      "0.6\n",
      "0.61\n",
      "0.62\n",
      "0.63\n",
      "0.64\n",
      "0.65\n",
      "0.66\n",
      "0.67\n",
      "0.68\n",
      "0.6900000000000001\n",
      "0.7000000000000001\n",
      "0.71\n",
      "0.72\n",
      "0.73\n",
      "0.74\n",
      "0.75\n",
      "0.76\n",
      "0.77\n",
      "0.78\n",
      "0.79\n",
      "0.8\n",
      "0.81\n",
      "0.8200000000000001\n",
      "0.8300000000000001\n",
      "0.84\n",
      "0.85\n",
      "0.86\n",
      "0.87\n",
      "0.88\n",
      "0.89\n",
      "0.9\n",
      "0.91\n",
      "0.92\n",
      "0.93\n",
      "0.9400000000000001\n",
      "0.9500000000000001\n",
      "0.96\n",
      "0.97\n",
      "0.98\n",
      "0.99\n"
     ]
    }
   ],
   "source": [
    "import torch\n",
    "import numpy as np\n",
    "import matplotlib.pyplot as plt\n",
    "\n",
    "device = torch.device(\"cuda\" if torch.cuda.is_available() else \"cpu\")\n",
    "#torch.manual_seed(2)\n",
    "\n",
    "bs = 1000 # N\n",
    "n = 20000 # d\n",
    "dt = 1/100\n",
    "h = .693\n",
    "\n",
    "m  = torch.ones(n, device=device)\n",
    "a  = lambda t: n ** (1/2) * (1-t)\n",
    "ap = lambda t: -n ** (1/2)\n",
    "b  = lambda t: t\n",
    "bp = lambda t: 1\n",
    "c  = n ** (1/2)\n",
    "\n",
    "np.random.seed(2)\n",
    "xp = np.random.randn(bs,n).T * c\n",
    "x = torch.tensor(xp, device=device, dtype = torch.float)\n",
    "xs = [x.cpu().numpy()]\n",
    "ms = [np.sum(xs[0], axis=0)]\n",
    "ps = [np.mean(ms[0]>0)]\n",
    "\n",
    "def bf(x, t):\n",
    "    x_coef    = (a(t) * ap(t) + b(t) * bp(t)) / (a(t)**2 + b(t)**2)\n",
    "    tanh_coef = a(t) * (bp(t) * a(t) - b(t) * ap(t)) / (a(t)**2 + b(t)**2)\n",
    "    tanh_term = torch.tanh(h + b(t) * (m @ x) / (a(t)**2 + b(t)**2))\n",
    "    return x_coef * x + tanh_coef * torch.outer(m, tanh_term)\n",
    "\n",
    "ts = np.arange(0, 1, dt)\n",
    "for t in ts:\n",
    "    x = x + bf(x, t) * dt\n",
    "    mm = np.sum(x.cpu().numpy(), axis=0)\n",
    "    p = np.mean(mm > 0)\n",
    "    ps.append(p)\n",
    "    print(t)\n",
    "    #xs.append(x.cpu().numpy())\n",
    "       \n",
    "ps = np.array(ps)"
   ]
  },
  {
   "cell_type": "code",
   "execution_count": 11,
   "id": "ec79a046-8c62-4aa4-a19e-378734dd2563",
   "metadata": {},
   "outputs": [
    {
     "data": {
      "text/plain": [
       "array([0.513, 0.513, 0.518, 0.52 , 0.522, 0.523, 0.528, 0.531, 0.533,\n",
       "       0.538, 0.541, 0.542, 0.544, 0.547, 0.55 , 0.553, 0.557, 0.559,\n",
       "       0.562, 0.563, 0.565, 0.568, 0.575, 0.578, 0.58 , 0.585, 0.59 ,\n",
       "       0.594, 0.599, 0.604, 0.609, 0.614, 0.619, 0.622, 0.623, 0.627,\n",
       "       0.633, 0.636, 0.639, 0.644, 0.648, 0.65 , 0.661, 0.669, 0.677,\n",
       "       0.686, 0.691, 0.697, 0.704, 0.707, 0.712, 0.717, 0.722, 0.725,\n",
       "       0.726, 0.733, 0.738, 0.743, 0.751, 0.758, 0.763, 0.768, 0.773,\n",
       "       0.777, 0.778, 0.782, 0.787, 0.789, 0.793, 0.796, 0.798, 0.799,\n",
       "       0.799, 0.8  , 0.801, 0.801, 0.802, 0.803, 0.803, 0.803, 0.803,\n",
       "       0.803, 0.804, 0.804, 0.804, 0.804, 0.804, 0.804, 0.804, 0.804,\n",
       "       0.804, 0.804, 0.804, 0.804, 0.804, 0.804, 0.804, 0.804, 0.804,\n",
       "       0.804, 0.804])"
      ]
     },
     "execution_count": 11,
     "metadata": {},
     "output_type": "execute_result"
    }
   ],
   "source": [
    "ps"
   ]
  },
  {
   "cell_type": "code",
   "execution_count": 12,
   "id": "eecc8521-9f60-44be-91fc-e69b78faa283",
   "metadata": {},
   "outputs": [
    {
     "data": {
      "text/plain": [
       "[<matplotlib.lines.Line2D at 0x147c84474df0>]"
      ]
     },
     "execution_count": 12,
     "metadata": {},
     "output_type": "execute_result"
    },
    {
     "data": {
      "image/png": "[encoded data removed]",
      "text/plain": [
       "<Figure size 640x480 with 1 Axes>"
      ]
     },
     "metadata": {},
     "output_type": "display_data"
    }
   ],
   "source": [
    "plt.plot(ps)"
   ]
  },
  {
   "cell_type": "code",
   "execution_count": null,
   "id": "8d1a8d76-78eb-46ce-b8b8-04ad77615382",
   "metadata": {},
   "outputs": [],
   "source": []
  },
  {
   "cell_type": "code",
   "execution_count": null,
   "id": "ccaad6fb-bd76-4979-83eb-38bfb6dcdbe9",
   "metadata": {},
   "outputs": [],
   "source": []
  }
 ],
 "metadata": {
  "kernelspec": {
   "display_name": "Python 3 (ipykernel)",
   "language": "python",
   "name": "python3"
  },
  "language_info": {
   "codemirror_mode": {
    "name": "ipython",
    "version": 3
   },
   "file_extension": ".py",
   "mimetype": "text/x-python",
   "name": "python",
   "nbconvert_exporter": "python",
   "pygments_lexer": "ipython3",
   "version": "3.10.13"
  }
 },
 "nbformat": 4,
 "nbformat_minor": 5
}
