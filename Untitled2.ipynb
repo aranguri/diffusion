{
 "cells": [
  {
   "cell_type": "code",
   "execution_count": 5,
   "id": "9b0a4731-e23e-4b9a-8e78-d3661db5b531",
   "metadata": {},
   "outputs": [
    {
     "data": {
      "text/plain": [
       "tensor([[-0.3707,  0.5867,  0.1541],\n",
       "        [-1.5948,  0.2925, -0.3563],\n",
       "        [ 0.1095, -1.3984,  1.5038],\n",
       "        [ 0.2598, -1.4688, -0.6555],\n",
       "        [-0.3707,  0.5867,  0.1541],\n",
       "        [-1.5948,  0.2925, -0.3563],\n",
       "        [ 0.1095, -1.3984,  1.5038],\n",
       "        [ 0.2598, -1.4688, -0.6555]])"
      ]
     },
     "execution_count": 5,
     "metadata": {},
     "output_type": "execute_result"
    }
   ],
   "source": [
    "import torch\n",
    "a = torch.randn(4,3)\n",
    "torch.tile(a, (2, 1))"
   ]
  }
 ],
 "metadata": {
  "kernelspec": {
   "display_name": "Python 3 (ipykernel)",
   "language": "python",
   "name": "python3"
  },
  "language_info": {
   "codemirror_mode": {
    "name": "ipython",
    "version": 3
   },
   "file_extension": ".py",
   "mimetype": "text/x-python",
   "name": "python",
   "nbconvert_exporter": "python",
   "pygments_lexer": "ipython3",
   "version": "3.9.18"
  }
 },
 "nbformat": 4,
 "nbformat_minor": 5
}
