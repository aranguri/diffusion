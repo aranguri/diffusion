{
 "cells": [
  {
   "cell_type": "code",
   "execution_count": null,
   "id": "e4af9c9d-0da8-4ac7-984b-9b5beb2f92ef",
   "metadata": {},
   "outputs": [],
   "source": [
    "from model import AE, AE_0\n",
    "from diffusion import Diffusion"
   ]
  },
  {
   "cell_type": "code",
   "execution_count": null,
   "id": "4958d1f5-63f6-4cd6-bc30-8b0591b40981",
   "metadata": {},
   "outputs": [],
   "source": [
    "nrm = 1\n",
    "σ = 1\n",
    "# number of samples\n",
    "ntot = 4\n",
    "# dimensions\n",
    "d = 200\n",
    "# training\n",
    "epochs = 800\n",
    "# imbalance prob\n",
    "p = 0.9\n",
    "# generation size\n",
    "N = 1000\n",
    "# std of initial sample\n",
    "std = 1\n",
    "# number of discretization steps for ODE\n",
    "N_steps=100"
   ]
  },
  {
   "cell_type": "code",
   "execution_count": null,
   "id": "a287fa0c-9a77-4abc-b069-995f179c5205",
   "metadata": {},
   "outputs": [],
   "source": [
    "device = torch.device(\"cuda:0\" if torch.cuda.is_available() else \"cpu\")"
   ]
  },
  {
   "cell_type": "code",
   "execution_count": null,
   "id": "eb94e105-5856-43e4-aa64-3d74748d17ff",
   "metadata": {},
   "outputs": [],
   "source": [
    "α  = lambda t: (1-t) * std\n",
    "β  = lambda t: t\n",
    "ae = AE(d).to(device)\n",
    "optimizer = torch.optim.Adam([\n",
    "    {'params': [ae.w],    \"weight_decay\":1e-0},\n",
    "    {'params': [ae.b],    \"weight_decay\":1e-0}, \n",
    "    {'params': [ae.c],    \"weight_decay\":0.}]\n",
    ", lr=.04)\n",
    "diffusion = Diffusion(α, β, ae, optimizer, \n",
    "diffusion.train()"
   ]
  }
 ],
 "metadata": {
  "kernelspec": {
   "display_name": "Python 3 (ipykernel)",
   "language": "python",
   "name": "python3"
  },
  "language_info": {
   "codemirror_mode": {
    "name": "ipython",
    "version": 3
   },
   "file_extension": ".py",
   "mimetype": "text/x-python",
   "name": "python",
   "nbconvert_exporter": "python",
   "pygments_lexer": "ipython3",
   "version": "3.9.18"
  }
 },
 "nbformat": 4,
 "nbformat_minor": 5
}
